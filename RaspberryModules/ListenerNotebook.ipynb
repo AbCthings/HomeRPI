{
 "cells": [
  {
   "cell_type": "code",
   "execution_count": null,
   "metadata": {},
   "outputs": [
    {
     "name": "stdout",
     "output_type": "stream",
     "text": [
      "Creating new instance of the MQTT Listener Module\n",
      "Connecting to broker @ 192.168.1.127\n",
      "Connection success!\n",
      "Subscribing to topic RpiHome/standardTopic\n",
      "Message received: prova\n",
      "(on topic: RpiHome/standardTopic )\n",
      "Message received: prova\n",
      "(on topic: RpiHome/standardTopic )\n",
      "Message received: prova\n",
      "(on topic: RpiHome/standardTopic )\n"
     ]
    }
   ],
   "source": [
    "#!python3\n",
    "\n",
    "import paho.mqtt.client as mqtt\n",
    "import time\n",
    "\n",
    "#modules\n",
    "########################################\n",
    "def on_message(client, userdata, message):\n",
    "    print(\"Message received:\" , str(message.payload.decode(\"utf-8\")))\n",
    "    print(\"(on topic:\" , message.topic , \")\")\n",
    "    #print(\"message qos=\",message.qos)\n",
    "    #print(\"message retain flag=\",message.retain)\n",
    "    \n",
    "    #THE SWITCH CASE STARTS HERE\n",
    "\n",
    "    #/THE SWITCH CASE\n",
    "    \n",
    "########################################\n",
    "\n",
    "#constants\n",
    "########################################\n",
    "BROKER_ADDRESS = \"192.168.1.127\"\n",
    "#broker_address=\"iot.eclipse.org\"\n",
    "########################################\n",
    "\n",
    "#program\n",
    "########################################\n",
    "print(\"Creating new instance of the MQTT Listener Module\")\n",
    "\n",
    "client = mqtt.Client(\"MQTTClient\") #create new instance\n",
    "\n",
    "client.on_message = on_message #attach function to callback\n",
    "\n",
    "#print(\"connecting to broker\")\n",
    "#client.connect(BROKER_ADDRESS) #connect to broker\n",
    "\n",
    "connected = False\n",
    "while not connected:\n",
    "    try:\n",
    "        print(\"Connecting to broker @\",BROKER_ADDRESS)\n",
    "        client.connect(BROKER_ADDRESS,1883,60) #connect to broker\n",
    "    except Exception as ex:\n",
    "        print(\"Connection failed: \", ex)\n",
    "        print(\"Trying again...\")\n",
    "    else:\n",
    "        print(\"Connection success!\")\n",
    "        connected = True\n",
    "\n",
    "client.loop_start() #start the loop\n",
    "\n",
    "print(\"Subscribing to topic\",\"RpiHome/standardTopic\")\n",
    "client.subscribe(\"RpiHome/standardTopic\")\n",
    "\n",
    "#print(\"Publishing message to topic\",\"house/bulbs/bulb1\")\n",
    "#client.publish(\"house/bulbs/bulb1\",\"OFF\")\n",
    "\n",
    "#main code here\n",
    "try:\n",
    "    while True:\n",
    "        time.sleep(1)\n",
    "except KeyboardInterrupt:\n",
    "    print(\"Exiting\")\n",
    "    \n",
    "client.loop_stop() #stop the loop\n",
    "client.disconnect()\n",
    "########################################"
   ]
  },
  {
   "cell_type": "markdown",
   "metadata": {},
   "source": [
    "<b> \n",
    "-------> TESTING THE CODE\n",
    "\n",
    "NOW YOU HAVE TO WRITE IN CLIENT: mosquitto_pub -h 192.168.1.127 -d -t \"RpiHome/standardTopic\" -m \"prova\"\n",
    "</b>"
   ]
  },
  {
   "cell_type": "code",
   "execution_count": null,
   "metadata": {},
   "outputs": [],
   "source": []
  }
 ],
 "metadata": {
  "kernelspec": {
   "display_name": "Python 3",
   "language": "python",
   "name": "python3"
  },
  "language_info": {
   "codemirror_mode": {
    "name": "ipython",
    "version": 3
   },
   "file_extension": ".py",
   "mimetype": "text/x-python",
   "name": "python",
   "nbconvert_exporter": "python",
   "pygments_lexer": "ipython3",
   "version": "3.6.5"
  }
 },
 "nbformat": 4,
 "nbformat_minor": 2
}
